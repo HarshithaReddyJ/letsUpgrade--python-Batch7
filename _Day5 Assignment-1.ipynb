{
 "cells": [
  {
   "cell_type": "markdown",
   "metadata": {},
   "source": [
    "# 1. Write a program to identify sbu list [1,1,5] is there in  the given list in the same order, if yes print \"its a match\"if no then print \"its Gone\" in function\n"
   ]
  },
  {
   "cell_type": "code",
   "execution_count": 1,
   "metadata": {},
   "outputs": [
    {
     "name": "stdout",
     "output_type": "stream",
     "text": [
      "Original list : [9, 4, 1, 3, 5, 0, 1, 9]\n",
      "Original sub list : [1, 1, 5]\n",
      "its a Match\n"
     ]
    }
   ],
   "source": [
    "#initilizing list & sub list\n",
    "test_list = [9,4,1,3,5,0,1,9] \n",
    "sub_list = [1,1,5] \n",
    "\n",
    "print (\"Original list : \" + str(test_list)) \n",
    "print (\"Original sub list : \" + str(sub_list)) \n",
    "\n",
    "\n",
    "flag = 0\n",
    "if(set(sub_list).issubset(set(test_list))): \n",
    "\tflag = 1\n",
    "\t\n",
    "# printing result \n",
    "if (flag) : \n",
    "\tprint (\"its a Match\") \n",
    "else : \n",
    "\tprint (\"its Gone.\") \n"
   ]
  },
  {
   "cell_type": "code",
   "execution_count": null,
   "metadata": {},
   "outputs": [],
   "source": []
  },
  {
   "cell_type": "code",
   "execution_count": null,
   "metadata": {},
   "outputs": [],
   "source": []
  },
  {
   "cell_type": "code",
   "execution_count": null,
   "metadata": {},
   "outputs": [],
   "source": []
  }
 ],
 "metadata": {
  "kernelspec": {
   "display_name": "Python 3",
   "language": "python",
   "name": "python3"
  },
  "language_info": {
   "codemirror_mode": {
    "name": "ipython",
    "version": 3
   },
   "file_extension": ".py",
   "mimetype": "text/x-python",
   "name": "python",
   "nbconvert_exporter": "python",
   "pygments_lexer": "ipython3",
   "version": "3.8.3"
  }
 },
 "nbformat": 4,
 "nbformat_minor": 4
}
